{
 "cells": [
  {
   "cell_type": "markdown",
   "id": "7b687b5c",
   "metadata": {},
   "source": [
    "# Scraping Data from a website"
   ]
  },
  {
   "cell_type": "code",
   "execution_count": 24,
   "id": "a54c9a06",
   "metadata": {},
   "outputs": [],
   "source": [
    "from bs4 import BeautifulSoup\n",
    "import requests"
   ]
  },
  {
   "cell_type": "code",
   "execution_count": 25,
   "id": "e20f42b9",
   "metadata": {},
   "outputs": [],
   "source": [
    "url = 'https://en.wikipedia.org/wiki/List_of_largest_companies_in_the_United_States_by_revenue'\n",
    "\n",
    "page = requests.get(url)\n",
    "\n",
    "data = BeautifulSoup(page.text, 'html')"
   ]
  },
  {
   "cell_type": "code",
   "execution_count": 78,
   "id": "346d926b",
   "metadata": {},
   "outputs": [],
   "source": [
    "live_data = data.find_all('table')[0]"
   ]
  },
  {
   "cell_type": "code",
   "execution_count": 79,
   "id": "ef8db738",
   "metadata": {},
   "outputs": [],
   "source": [
    "data_headings = live_data.find_all('th')"
   ]
  },
  {
   "cell_type": "code",
   "execution_count": 80,
   "id": "a4443fef",
   "metadata": {},
   "outputs": [
    {
     "name": "stdout",
     "output_type": "stream",
     "text": [
      "[<th>Rank\n",
      "</th>, <th>Name\n",
      "</th>, <th>Industry\n",
      "</th>, <th>Revenue <br/>(USD millions)\n",
      "</th>, <th>Revenue growth\n",
      "</th>, <th>Employees\n",
      "</th>, <th>Headquarters\n",
      "</th>]\n"
     ]
    }
   ],
   "source": [
    "print(data_headings)"
   ]
  },
  {
   "cell_type": "code",
   "execution_count": 81,
   "id": "fd961f82",
   "metadata": {},
   "outputs": [
    {
     "name": "stdout",
     "output_type": "stream",
     "text": [
      "['Rank', 'Name', 'Industry', 'Revenue (USD millions)', 'Revenue growth', 'Employees', 'Headquarters']\n"
     ]
    }
   ],
   "source": [
    "data_headings_table = [heading.text.strip() for heading in data_headings]\n",
    "print(data_headings_table)"
   ]
  },
  {
   "cell_type": "code",
   "execution_count": 82,
   "id": "7a9c4ac5",
   "metadata": {},
   "outputs": [],
   "source": [
    "import pandas as pd"
   ]
  },
  {
   "cell_type": "code",
   "execution_count": 83,
   "id": "b8f6eeda",
   "metadata": {},
   "outputs": [
    {
     "data": {
      "text/html": [
       "<div>\n",
       "<style scoped>\n",
       "    .dataframe tbody tr th:only-of-type {\n",
       "        vertical-align: middle;\n",
       "    }\n",
       "\n",
       "    .dataframe tbody tr th {\n",
       "        vertical-align: top;\n",
       "    }\n",
       "\n",
       "    .dataframe thead th {\n",
       "        text-align: right;\n",
       "    }\n",
       "</style>\n",
       "<table border=\"1\" class=\"dataframe\">\n",
       "  <thead>\n",
       "    <tr style=\"text-align: right;\">\n",
       "      <th></th>\n",
       "      <th>Rank</th>\n",
       "      <th>Name</th>\n",
       "      <th>Industry</th>\n",
       "      <th>Revenue (USD millions)</th>\n",
       "      <th>Revenue growth</th>\n",
       "      <th>Employees</th>\n",
       "      <th>Headquarters</th>\n",
       "    </tr>\n",
       "  </thead>\n",
       "  <tbody>\n",
       "  </tbody>\n",
       "</table>\n",
       "</div>"
      ],
      "text/plain": [
       "Empty DataFrame\n",
       "Columns: [Rank, Name, Industry, Revenue (USD millions), Revenue growth, Employees, Headquarters]\n",
       "Index: []"
      ]
     },
     "execution_count": 83,
     "metadata": {},
     "output_type": "execute_result"
    }
   ],
   "source": [
    "df = pd.DataFrame(columns = data_headings_table)\n",
    "df"
   ]
  },
  {
   "cell_type": "code",
   "execution_count": 68,
   "id": "22dc83ad",
   "metadata": {},
   "outputs": [],
   "source": [
    "column_data = live_data.find_all('tr')"
   ]
  },
  {
   "cell_type": "code",
   "execution_count": 69,
   "id": "b6ce28cd",
   "metadata": {},
   "outputs": [],
   "source": [
    "for row in column_data[1:]:\n",
    "    row_data = row.find_all('td')\n",
    "    rows_data = [data.text.strip() for data in row_data]\n",
    "   \n",
    "    length = len(df)\n",
    "    df.loc[length] = rows_data\n",
    "    "
   ]
  },
  {
   "cell_type": "code",
   "execution_count": 70,
   "id": "8b9a0f7b",
   "metadata": {},
   "outputs": [
    {
     "data": {
      "text/html": [
       "<div>\n",
       "<style scoped>\n",
       "    .dataframe tbody tr th:only-of-type {\n",
       "        vertical-align: middle;\n",
       "    }\n",
       "\n",
       "    .dataframe tbody tr th {\n",
       "        vertical-align: top;\n",
       "    }\n",
       "\n",
       "    .dataframe thead th {\n",
       "        text-align: right;\n",
       "    }\n",
       "</style>\n",
       "<table border=\"1\" class=\"dataframe\">\n",
       "  <thead>\n",
       "    <tr style=\"text-align: right;\">\n",
       "      <th></th>\n",
       "      <th>Rank</th>\n",
       "      <th>Name</th>\n",
       "      <th>Industry</th>\n",
       "      <th>Revenue (USD millions)</th>\n",
       "      <th>Revenue growth</th>\n",
       "      <th>Employees</th>\n",
       "      <th>Headquarters</th>\n",
       "    </tr>\n",
       "  </thead>\n",
       "  <tbody>\n",
       "    <tr>\n",
       "      <th>0</th>\n",
       "      <td>1</td>\n",
       "      <td>Walmart</td>\n",
       "      <td>Retail</td>\n",
       "      <td>648,125</td>\n",
       "      <td>6.0%</td>\n",
       "      <td>2,100,000</td>\n",
       "      <td>Bentonville, Arkansas</td>\n",
       "    </tr>\n",
       "    <tr>\n",
       "      <th>1</th>\n",
       "      <td>2</td>\n",
       "      <td>Amazon</td>\n",
       "      <td>Retail and cloud computing</td>\n",
       "      <td>574,785</td>\n",
       "      <td>11.9%</td>\n",
       "      <td>1,525,000</td>\n",
       "      <td>Seattle, Washington</td>\n",
       "    </tr>\n",
       "    <tr>\n",
       "      <th>2</th>\n",
       "      <td>3</td>\n",
       "      <td>Apple</td>\n",
       "      <td>Electronics industry</td>\n",
       "      <td>383,482</td>\n",
       "      <td>-2.8%</td>\n",
       "      <td>161,000</td>\n",
       "      <td>Cupertino, California</td>\n",
       "    </tr>\n",
       "    <tr>\n",
       "      <th>3</th>\n",
       "      <td>4</td>\n",
       "      <td>UnitedHealth Group</td>\n",
       "      <td>Healthcare</td>\n",
       "      <td>371,622</td>\n",
       "      <td>14.6%</td>\n",
       "      <td>440,000</td>\n",
       "      <td>Minnetonka, Minnesota</td>\n",
       "    </tr>\n",
       "    <tr>\n",
       "      <th>4</th>\n",
       "      <td>5</td>\n",
       "      <td>Berkshire Hathaway</td>\n",
       "      <td>Conglomerate</td>\n",
       "      <td>364,482</td>\n",
       "      <td>20.7%</td>\n",
       "      <td>396,500</td>\n",
       "      <td>Omaha, Nebraska</td>\n",
       "    </tr>\n",
       "    <tr>\n",
       "      <th>...</th>\n",
       "      <td>...</td>\n",
       "      <td>...</td>\n",
       "      <td>...</td>\n",
       "      <td>...</td>\n",
       "      <td>...</td>\n",
       "      <td>...</td>\n",
       "      <td>...</td>\n",
       "    </tr>\n",
       "    <tr>\n",
       "      <th>95</th>\n",
       "      <td>96</td>\n",
       "      <td>TIAA</td>\n",
       "      <td>Financials</td>\n",
       "      <td>45,735</td>\n",
       "      <td>11.8%</td>\n",
       "      <td>16,023</td>\n",
       "      <td>New York City, New York</td>\n",
       "    </tr>\n",
       "    <tr>\n",
       "      <th>96</th>\n",
       "      <td>97</td>\n",
       "      <td>CHS</td>\n",
       "      <td>Agriculture cooperative</td>\n",
       "      <td>45,590</td>\n",
       "      <td>-4.6%</td>\n",
       "      <td>10,609</td>\n",
       "      <td>Inver Grove Heights, Minnesota</td>\n",
       "    </tr>\n",
       "    <tr>\n",
       "      <th>97</th>\n",
       "      <td>98</td>\n",
       "      <td>Bristol-Myers Squibb</td>\n",
       "      <td>Pharmaceutical industry</td>\n",
       "      <td>45,006</td>\n",
       "      <td>-2.5%</td>\n",
       "      <td>34,100</td>\n",
       "      <td>New York City, New York</td>\n",
       "    </tr>\n",
       "    <tr>\n",
       "      <th>98</th>\n",
       "      <td>99</td>\n",
       "      <td>Dow Chemical Company</td>\n",
       "      <td>Chemical industry</td>\n",
       "      <td>44,622</td>\n",
       "      <td>-21.6%</td>\n",
       "      <td>35,900</td>\n",
       "      <td>Midland, Michigan</td>\n",
       "    </tr>\n",
       "    <tr>\n",
       "      <th>99</th>\n",
       "      <td>100</td>\n",
       "      <td>Best Buy</td>\n",
       "      <td>Retail</td>\n",
       "      <td>43,452</td>\n",
       "      <td>-6.1%</td>\n",
       "      <td>85,000</td>\n",
       "      <td>Richfield, Minnesota</td>\n",
       "    </tr>\n",
       "  </tbody>\n",
       "</table>\n",
       "<p>100 rows × 7 columns</p>\n",
       "</div>"
      ],
      "text/plain": [
       "   Rank                  Name                    Industry  \\\n",
       "0     1               Walmart                      Retail   \n",
       "1     2                Amazon  Retail and cloud computing   \n",
       "2     3                 Apple        Electronics industry   \n",
       "3     4    UnitedHealth Group                  Healthcare   \n",
       "4     5    Berkshire Hathaway                Conglomerate   \n",
       "..  ...                   ...                         ...   \n",
       "95   96                  TIAA                  Financials   \n",
       "96   97                   CHS     Agriculture cooperative   \n",
       "97   98  Bristol-Myers Squibb     Pharmaceutical industry   \n",
       "98   99  Dow Chemical Company           Chemical industry   \n",
       "99  100              Best Buy                      Retail   \n",
       "\n",
       "   Revenue (USD millions) Revenue growth  Employees  \\\n",
       "0                 648,125           6.0%  2,100,000   \n",
       "1                 574,785          11.9%  1,525,000   \n",
       "2                 383,482          -2.8%    161,000   \n",
       "3                 371,622          14.6%    440,000   \n",
       "4                 364,482          20.7%    396,500   \n",
       "..                    ...            ...        ...   \n",
       "95                 45,735          11.8%     16,023   \n",
       "96                 45,590          -4.6%     10,609   \n",
       "97                 45,006          -2.5%     34,100   \n",
       "98                 44,622         -21.6%     35,900   \n",
       "99                 43,452          -6.1%     85,000   \n",
       "\n",
       "                      Headquarters  \n",
       "0            Bentonville, Arkansas  \n",
       "1              Seattle, Washington  \n",
       "2            Cupertino, California  \n",
       "3            Minnetonka, Minnesota  \n",
       "4                  Omaha, Nebraska  \n",
       "..                             ...  \n",
       "95         New York City, New York  \n",
       "96  Inver Grove Heights, Minnesota  \n",
       "97         New York City, New York  \n",
       "98               Midland, Michigan  \n",
       "99            Richfield, Minnesota  \n",
       "\n",
       "[100 rows x 7 columns]"
      ]
     },
     "execution_count": 70,
     "metadata": {},
     "output_type": "execute_result"
    }
   ],
   "source": [
    "df"
   ]
  },
  {
   "cell_type": "code",
   "execution_count": 77,
   "id": "6b5e7e23",
   "metadata": {},
   "outputs": [],
   "source": [
    "df.to_csv(r'C:\\Users\\NWANGI ONYEMAECHI\\Documents\\oluchiogbu022@gmail.com\\Lists.csv', index = False)"
   ]
  },
  {
   "cell_type": "code",
   "execution_count": null,
   "id": "25792bc3",
   "metadata": {},
   "outputs": [],
   "source": []
  }
 ],
 "metadata": {
  "kernelspec": {
   "display_name": "Python 3 (ipykernel)",
   "language": "python",
   "name": "python3"
  },
  "language_info": {
   "codemirror_mode": {
    "name": "ipython",
    "version": 3
   },
   "file_extension": ".py",
   "mimetype": "text/x-python",
   "name": "python",
   "nbconvert_exporter": "python",
   "pygments_lexer": "ipython3",
   "version": "3.11.5"
  }
 },
 "nbformat": 4,
 "nbformat_minor": 5
}
